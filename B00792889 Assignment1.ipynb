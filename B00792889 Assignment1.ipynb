{
 "cells": [
  {
   "cell_type": "markdown",
   "metadata": {},
   "source": [
    "# COM400 Mathematics for Computing Coursework"
   ]
  },
  {
   "cell_type": "markdown",
   "metadata": {},
   "source": [
    "## Instructions\n",
    "\n",
    "You can use and import libraries that were used in the COM400 labs.\n",
    "\n",
    "It is left to your own judgement as to how many decimal places you should round any numerical answers.\n",
    "\n",
    "Further details are found in the Notebook.\n",
    "\n",
    "**This coursework is worth 50% of the overall module mark.**\n",
    "\n",
    "**<font color=red>Deadline: 5:00 pm, Friday 20th November 2020</font>**\n",
    "\n",
    "**<font color=red>This is an individual assignment: University regulations on plagiarism will apply.</font>**\n",
    "  \n",
    "**The total number of marks available in this assignment is 100.**\n",
    "\n",
    "**Enter your solutions directly into this Jupyter notebook.**\n",
    "\n",
    "For each question, you should provide your answer **in the cell immediately below the question**.\n",
    "\n",
    "If a question requires a **numerical answer**, your cell should include python code carrying out the relevant calculations, and include a `print` statement to make clear what your answer to the question is. \n",
    "\n",
    "If a question requires a **graphical plot**, your cell should include python code that results in the required plot being printed to screen."
   ]
  },
  {
   "cell_type": "markdown",
   "metadata": {},
   "source": [
    "**For example,** if a question asked : **What is the value of $\\sqrt{500}$ ?**\n",
    "\n",
    "then you should present your solution in a cell as follows:"
   ]
  },
  {
   "cell_type": "code",
   "execution_count": 1,
   "metadata": {},
   "outputs": [
    {
     "name": "stdout",
     "output_type": "stream",
     "text": [
      "square root of 500 =  22.360679774997898\n"
     ]
    }
   ],
   "source": [
    "# code performing your calculations\n",
    "# ...\n",
    "# ...\n",
    "ans = 500**0.5\n",
    "print(\"square root of 500 = \", ans)"
   ]
  },
  {
   "cell_type": "markdown",
   "metadata": {},
   "source": [
    "**You need to submit BOTH of the following via Blackboard before the deadline:**\n",
    "  1. **This Jupyter notebook (containing your solutions), AND**\n",
    "  2. **A pdf of this Jupyter notebook (containing your solutions).**\n",
    "  \n",
    " You can convert your Jupyter notebook to pdf by:\n",
    " - printing directly from your browser to pdf\n",
    " - if the above does not work in your browser, go to File-> Download As... -> HTML (.html). Then open the html file in Goggle chrome, and print from chrome to pdf."
   ]
  },
  {
   "cell_type": "markdown",
   "metadata": {},
   "source": [
    "## <font color = blue>Question 1: Matrices</font>\n",
    "\n",
    "### <font color = blue>Question 1 Part A</font>\n",
    "\n",
    "Three matrices $\\mathbf{A}$, $\\mathbf{B}$ and $\\mathbf{C}$ and a vector $\\mathbf{y}$ are given as\n",
    "\n",
    "$\\mathbf{A} = \\begin{bmatrix} 6 & 1 & 2 & -3 \\\\ 4 & 0 & -2 & 3 \\\\ 1 & -3 & 0 & 2 \\end{bmatrix}, \\mathbf{B} = \\begin{bmatrix} 2 & 0 & 1 \\\\ 6 & 2 & 0 \\\\ 4 & 2 & -1 \\end{bmatrix}, \\mathbf{C} = \\begin{bmatrix} 4 & 0 & 1 & 2 \\\\ 3 & -2 & 0 & 1 \\\\ 0 & 1 & 5 & -3 \\\\ -2 & 2 & 1 & 4 \\end{bmatrix}, \\mathbf{y} = \\begin{bmatrix} 2 \\\\ -3 \\\\ 2 \\\\ 4\\end{bmatrix}$\n",
    "\n",
    "Provide solutions to each of the following questions or else explain why it is not possible:"
   ]
  },
  {
   "cell_type": "code",
   "execution_count": 1,
   "metadata": {},
   "outputs": [
    {
     "name": "stdout",
     "output_type": "stream",
     "text": [
      "1.19.4\n"
     ]
    }
   ],
   "source": [
    "# ********-------Run this at beginning--------******** \n",
    "\n",
    "import numpy as np\n",
    "print(np.__version__)"
   ]
  },
  {
   "cell_type": "markdown",
   "metadata": {},
   "source": [
    "**i)**\tDefine $\\mathbf{A}$, $\\mathbf{B}$, $\\mathbf{C}$ and $\\mathbf{y}$ in Python, and print each to screen.\t&emsp; **\\[4 marks\\]**"
   ]
  },
  {
   "cell_type": "code",
   "execution_count": 60,
   "metadata": {},
   "outputs": [
    {
     "name": "stdout",
     "output_type": "stream",
     "text": [
      "A \n",
      " [[ 6  1  2 -3]\n",
      " [ 4  0 -2  3]\n",
      " [ 1 -3  0  2]]\n"
     ]
    }
   ],
   "source": [
    "A = np.array([[6,1,2,-3],[4,0,-2,3],[1,-3,0,2]])\n",
    "print(\"A \\n\", A)"
   ]
  },
  {
   "cell_type": "code",
   "execution_count": 61,
   "metadata": {},
   "outputs": [
    {
     "name": "stdout",
     "output_type": "stream",
     "text": [
      "B \n",
      " [[ 2  0  1]\n",
      " [ 6  2  0]\n",
      " [ 4  2 -1]]\n"
     ]
    }
   ],
   "source": [
    "B = np.array([[2,0,1],[6,2,0],[4,2,-1]])\n",
    "print(\"B \\n\", B)"
   ]
  },
  {
   "cell_type": "code",
   "execution_count": 62,
   "metadata": {},
   "outputs": [
    {
     "name": "stdout",
     "output_type": "stream",
     "text": [
      "C \n",
      " [[ 4  0  1  2]\n",
      " [ 3 -2  0  1]\n",
      " [ 0  1  5 -3]\n",
      " [-2  2  1  4]]\n"
     ]
    }
   ],
   "source": [
    "C = np.array([[4,0,1,2],[3,-2,0,1],[0,1,5,-3],[-2,2,1,4]])\n",
    "print(\"C \\n\", C)"
   ]
  },
  {
   "cell_type": "code",
   "execution_count": 63,
   "metadata": {},
   "outputs": [
    {
     "name": "stdout",
     "output_type": "stream",
     "text": [
      "y \n",
      " [[ 2]\n",
      " [-3]\n",
      " [ 2]\n",
      " [ 4]]\n"
     ]
    }
   ],
   "source": [
    "y = np.array([[2],[-3],[2],[4]])\n",
    "print(\"y \\n\", y)"
   ]
  },
  {
   "cell_type": "markdown",
   "metadata": {},
   "source": [
    "**ii)** $\\mathbf{A}^T\\mathbf{B}$ &emsp; **\\[2 marks\\]**"
   ]
  },
  {
   "cell_type": "code",
   "execution_count": 25,
   "metadata": {},
   "outputs": [
    {
     "name": "stdout",
     "output_type": "stream",
     "text": [
      "A^TB \n",
      " [[ 40  10   5]\n",
      " [-10  -6   4]\n",
      " [ -8  -4   2]\n",
      " [ 20  10  -5]]\n"
     ]
    }
   ],
   "source": [
    "print(\"A^TB \\n\",A.T @ B)"
   ]
  },
  {
   "cell_type": "markdown",
   "metadata": {},
   "source": [
    "**iii)** $\\mathbf{Ay}$ &emsp; **\\[2 marks\\]**"
   ]
  },
  {
   "cell_type": "code",
   "execution_count": 14,
   "metadata": {},
   "outputs": [
    {
     "name": "stdout",
     "output_type": "stream",
     "text": [
      "Ay\n",
      " [[ 1]\n",
      " [16]\n",
      " [19]]\n"
     ]
    }
   ],
   "source": [
    "print(\"Ay\\n\",A @ y)"
   ]
  },
  {
   "cell_type": "markdown",
   "metadata": {},
   "source": [
    "**iv)** $\\mathbf{CA}$ &emsp; **\\[2 marks\\]**"
   ]
  },
  {
   "cell_type": "code",
   "execution_count": 17,
   "metadata": {},
   "outputs": [
    {
     "name": "stdout",
     "output_type": "stream",
     "text": [
      "Order of C (4, 4)\n",
      "Order of A (3, 4)\n",
      "Order of C and A is incompatible for multiplication.\n"
     ]
    }
   ],
   "source": [
    "print(\"Order of C\",C.shape)\n",
    "print(\"Order of A\",A.shape)\n",
    "print(\"Order of C and A is incompatible for multiplication.\")"
   ]
  },
  {
   "cell_type": "markdown",
   "metadata": {},
   "source": [
    "**v)** $\\mathbf{C}^{10}$ &emsp; **\\[2 marks\\]**"
   ]
  },
  {
   "cell_type": "code",
   "execution_count": 100,
   "metadata": {},
   "outputs": [
    {
     "name": "stdout",
     "output_type": "stream",
     "text": [
      "C^10\n",
      " [[ 9360925 -1586650  6654085 -8200163]\n",
      " [ 4031932  -797920  2727348 -3845916]\n",
      " [ 8826598   182727  9184453 -4044841]\n",
      " [ 1406889  -204534  -684803   608893]]\n"
     ]
    }
   ],
   "source": [
    "print(\"C^10\\n\", np.linalg.matrix_power(C,10))"
   ]
  },
  {
   "cell_type": "markdown",
   "metadata": {},
   "source": [
    "**vi)** $\\mathbf{B}^{-1}$ &emsp; **\\[2 marks\\]**"
   ]
  },
  {
   "cell_type": "code",
   "execution_count": 102,
   "metadata": {},
   "outputs": [
    {
     "name": "stdout",
     "output_type": "stream",
     "text": [
      "B^-1\n",
      " [[-2.25179981e+15  2.25179981e+15 -2.25179981e+15]\n",
      " [ 6.75539944e+15 -6.75539944e+15  6.75539944e+15]\n",
      " [ 4.50359963e+15 -4.50359963e+15  4.50359963e+15]]\n",
      "\n",
      " or\n",
      "\n",
      "B^-1\n",
      " [[-2.25179981e+15  2.25179981e+15 -2.25179981e+15]\n",
      " [ 6.75539944e+15 -6.75539944e+15  6.75539944e+15]\n",
      " [ 4.50359963e+15 -4.50359963e+15  4.50359963e+15]]\n"
     ]
    }
   ],
   "source": [
    "# to the power of -1\n",
    "print(\"B^-1\\n\", np.linalg.matrix_power(B,-1))\n",
    "\n",
    "print(\"\\n or\\n\")\n",
    "\n",
    "# inverse\n",
    "print(\"B^-1\\n\", np.linalg.inv(B))"
   ]
  },
  {
   "cell_type": "markdown",
   "metadata": {},
   "source": [
    "**vii)**  $\\mathbf{C}^{−1}$ &emsp; **\\[2 marks\\]**"
   ]
  },
  {
   "cell_type": "code",
   "execution_count": 101,
   "metadata": {},
   "outputs": [
    {
     "name": "stdout",
     "output_type": "stream",
     "text": [
      "C^-1\n",
      " [[ 0.29569892 -0.15053763 -0.03225806 -0.1344086 ]\n",
      " [ 0.42473118 -0.6344086  -0.06451613 -0.10215054]\n",
      " [-0.10752688  0.23655914  0.19354839  0.13978495]\n",
      " [-0.03763441  0.1827957  -0.03225806  0.19892473]]\n",
      "\n",
      " or\n",
      "\n",
      "C^-1\n",
      " [[ 0.29569892 -0.15053763 -0.03225806 -0.1344086 ]\n",
      " [ 0.42473118 -0.6344086  -0.06451613 -0.10215054]\n",
      " [-0.10752688  0.23655914  0.19354839  0.13978495]\n",
      " [-0.03763441  0.1827957  -0.03225806  0.19892473]]\n"
     ]
    }
   ],
   "source": [
    "# to the power of -1\n",
    "print(\"C^-1\\n\", np.linalg.matrix_power(C,-1))\n",
    "\n",
    "print(\"\\n or\\n\")\n",
    "\n",
    "# inverse\n",
    "print(\"C^-1\\n\", np.linalg.inv(C))"
   ]
  },
  {
   "cell_type": "markdown",
   "metadata": {},
   "source": [
    "**viii)** $\\mathbf{A}\\mathbf{A}^T - \\mathbf{B}$ &emsp; **\\[2 marks\\]**"
   ]
  },
  {
   "cell_type": "code",
   "execution_count": 22,
   "metadata": {},
   "outputs": [
    {
     "name": "stdout",
     "output_type": "stream",
     "text": [
      "AA^T-B\n",
      " [[48 11 -4]\n",
      " [ 5 27 10]\n",
      " [-7  8 15]]\n"
     ]
    }
   ],
   "source": [
    "print(\"AA^T-B\\n\",A @ A.T - B)"
   ]
  },
  {
   "cell_type": "markdown",
   "metadata": {},
   "source": [
    "**ix)** By identifying two suitable matrices from $\\mathbf{A}$, $\\mathbf{B}$, $\\mathbf{C}$, and $\\mathbf{y}$ demonstrate that taking the transpose of the product of the first one times the second one is equal to the product of the transpose of the second one times the transpose of the first one \\[$(\\mathbf{XY})^T = \\mathbf{Y}^T\\mathbf{X}^T$\\]. &emsp; **\\[2 marks\\]**"
   ]
  },
  {
   "cell_type": "code",
   "execution_count": 78,
   "metadata": {},
   "outputs": [
    {
     "name": "stdout",
     "output_type": "stream",
     "text": [
      "(AC)𝑇 = A^TC^T\n",
      "[[33 10 -9]\n",
      " [-6  4 10]\n",
      " [13 -3  3]\n",
      " [-5 26  7]] \n",
      "\n",
      "[[33 10 -9]\n",
      " [-6  4 10]\n",
      " [13 -3  3]\n",
      " [-5 26  7]]\n",
      "\n",
      " Therefore (AC)T = A^TC^T\n"
     ]
    }
   ],
   "source": [
    "first = A @ C\n",
    "second = C.T @ A.T\n",
    "\n",
    "print(\"(AC)𝑇 = A^TC^T\")\n",
    "print(first.T,\"\\n\")\n",
    "print(second)\n",
    "print(\"\\n Therefore (AC)T = A^TC^T\")"
   ]
  },
  {
   "cell_type": "markdown",
   "metadata": {},
   "source": [
    "### <font color=blue>Question 1 Part B</font>\n",
    "\n",
    "Determine the solution to the following equations, i.e. determine the values of $w, x, y, z$. &emsp; **\\[10 marks\\]**\n",
    "\n",
    "\\begin{align}\n",
    "w + 3x + 2y - z & = 3 \\\\\n",
    "2w + 3y + 3z & = 1 \\\\\n",
    "3w + x - y & = -1\\\\\n",
    "2x + 3z & = 4\n",
    "\\end{align}\n",
    "\n",
    "Mark breakdown: \n",
    "- 3 marks for defining matrix, \n",
    "- 2 for defining vector, \n",
    "- 2 for calculating solution, \n",
    "- 1 for checking answer, \n",
    "- 2 for displaying values of $w,x,y,z$"
   ]
  },
  {
   "cell_type": "code",
   "execution_count": 60,
   "metadata": {},
   "outputs": [
    {
     "name": "stdout",
     "output_type": "stream",
     "text": [
      "Matrix\n",
      " [[ 1  3  2 -1]\n",
      " [ 2  0  3  3]\n",
      " [ 3  1 -1  0]\n",
      " [ 0  2  0  3]]\n",
      "\n",
      "Vector\n",
      " [[ 3]\n",
      " [ 1]\n",
      " [-1]\n",
      " [ 4]]\n",
      "\n",
      "Solution\n",
      " [[-0.65662651]\n",
      " [ 1.22289157]\n",
      " [ 0.25301205]\n",
      " [ 0.51807229]]\n",
      "\n",
      "Values\n",
      "w = -0.6566265060240963\n",
      "x = 1.2228915662650601\n",
      "y = 0.2530120481927711\n",
      "z = 0.5180722891566264\n",
      "\n",
      "Check\n",
      "w + 3x + 2y - z =  3.0\n",
      "2w + 3y + 3z =  1.0\n",
      "3w + x - y =  -1.0\n",
      "2x + 3z =  4.0\n"
     ]
    }
   ],
   "source": [
    "MatrixD = np.array([[1,3,2,-1],[2,0,3,3],[3,1,-1,0],[0,2,0,3]])\n",
    "MatrixE = np.array([[3,1,-1,4]]).T\n",
    "\n",
    "print(\"Matrix\\n\",MatrixD)\n",
    "print(\"\\nVector\\n\",MatrixE)\n",
    "\n",
    "MatrixF = np.linalg.solve(MatrixD,MatrixE)\n",
    "print(\"\\nSolution\\n\", MatrixF)\n",
    "\n",
    "print(\"\\nValues\")\n",
    "w = MatrixF[0,0]\n",
    "x = MatrixF[1,0]\n",
    "y = MatrixF[2,0]\n",
    "z = MatrixF[3,0]\n",
    "\n",
    "print(\"w =\", w)\n",
    "print(\"x =\", x)\n",
    "print(\"y =\", y)\n",
    "print(\"z =\", z)\n",
    "\n",
    "check1 = w + (3 * x) + (2 * y) - z\n",
    "check2 = (2 * w) + (3 * y) + (3 * z)\n",
    "check3 = (3 * w) + x - y\n",
    "check4 = (2 * x) + (3 * z)\n",
    "\n",
    "print(\"\\nCheck\")\n",
    "print(\"w + 3x + 2y - z = \",np.single(check1))\n",
    "print(\"2w + 3y + 3z = \",np.single(check2))\n",
    "print(\"3w + x - y = \",np.single(check3))\n",
    "print(\"2x + 3z = \",np.single(check4))\n"
   ]
  },
  {
   "cell_type": "markdown",
   "metadata": {},
   "source": [
    "## <font color = blue>Question 2: Probability</font>\n",
    "\n",
    "### <font color=blue>Question 2 Part A</font>\n",
    "\n",
    "Suppose there are two bags, each containing 100 balls. Bag 1 has 30 white balls and 70 black balls, while bag 2 has 60 white balls and 40 black balls. Suppose this information is known to both Alice and Bob. Alice selects one of the bags randomly (by tossing a coin) and then proceeds to select a ball randomly from that bag. She shows the selected ball to Bob, but does not tell him which bag it is from. Based on the information available to him, Bob must try determine which bag was selected.\n",
    "\n",
    "Based on this scenario, answer the following questions.\n",
    "\n",
    "**i)** Write code to simulate Alice's selection of one of the two bags. Store the choice in a variable called `bag` and print its value to show whether bag 1 or bag 2 was selected.  &emsp; **\\[2 marks\\]**"
   ]
  },
  {
   "cell_type": "code",
   "execution_count": 76,
   "metadata": {},
   "outputs": [
    {
     "name": "stdout",
     "output_type": "stream",
     "text": [
      "Selected Bag 1\n"
     ]
    }
   ],
   "source": [
    "Coin = 0.5\n",
    "\n",
    "# Heads = \"1, 30 white balls and 70 black balls\"\n",
    "# Tails = \"2, 60 white balls and 40 black balls\"\n",
    "\n",
    "Heads = 1\n",
    "Tails = 2\n",
    "\n",
    "random_bag = np.random.random()\n",
    "result = \"\"\n",
    "\n",
    "if random_bag < Coin:\n",
    "    result = Heads\n",
    "else:\n",
    "    result = Tails\n",
    "\n",
    "bag = result\n",
    "print(\"Selected Bag\", bag)"
   ]
  },
  {
   "cell_type": "markdown",
   "metadata": {},
   "source": [
    "**ii)** Write code to simulate Alice's selection of a ball from the selected bag. Store the selection in a variable called `colour` and print its value to show whether a white or a black ball was selected. (Note: the code should be written in such a way that the ball could be selected from either bag depending on the value of the `bag` variable coming from (i).)  &emsp; **\\[4 marks\\]**"
   ]
  },
  {
   "cell_type": "code",
   "execution_count": 77,
   "metadata": {},
   "outputs": [
    {
     "name": "stdout",
     "output_type": "stream",
     "text": [
      "Selected Colour White Ball\n"
     ]
    }
   ],
   "source": [
    "# need to call random again otherwise\n",
    "# would have to refresh previous code for different random value\n",
    "random_ball = np.random.random()\n",
    "\n",
    "if bag == 1:\n",
    "    \n",
    "    if random_ball <= 0.3:\n",
    "        colour = \"White Ball\" \n",
    "    else:\n",
    "        colour = \"Black Ball\"\n",
    "        \n",
    "elif bag == 2:\n",
    "    \n",
    "    if random_ball <= 0.6:\n",
    "        colour = \"White Ball\" \n",
    "    else:\n",
    "        colour = \"Black Ball\"\n",
    "        \n",
    "print(\"Selected Colour\", colour)"
   ]
  },
  {
   "cell_type": "markdown",
   "metadata": {},
   "source": [
    "**iii)** Bob wants to work out the probability that the selected bag was bag 1 and the probability that it was bag 2. First, he decides to work out the total probability of the ball being a) white, and b) black. Provide code to determine these probabilities.  &emsp; **\\[4 marks\\]**"
   ]
  },
  {
   "cell_type": "code",
   "execution_count": 78,
   "metadata": {},
   "outputs": [
    {
     "name": "stdout",
     "output_type": "stream",
     "text": [
      "Bag 1 White Ball Probability: 0.45\n",
      "Bag 1 Black Ball Probability: 0.55\n",
      "Bag 2 White Ball Probability: 0.55\n",
      "Bag 2 Black Ball Probability: 0.45\n"
     ]
    }
   ],
   "source": [
    "Coin = 0.5\n",
    "bag_prob = Coin\n",
    "\n",
    "prob_bag1_w = 0.3 \n",
    "prob_bag2_w = 0.6\n",
    "\n",
    "ball_w = prob_bag1_w * bag_prob + prob_bag2_w * bag_prob\n",
    "print(\"Bag 1 White Ball Probability: {:.2f}\".format(ball_w))\n",
    "print(\"Bag 1 Black Ball Probability:\", 1 - ball_w)\n",
    "\n",
    "prob_bag1_b = 0.7\n",
    "prob_bag2_b = 0.4\n",
    "\n",
    "ball_b = prob_bag1_b * bag_prob + prob_bag2_b * bag_prob\n",
    "print(\"Bag 2 White Ball Probability:\", ball_b)\n",
    "print(\"Bag 2 Black Ball Probability: {:0.2f}\".format(1 - ball_b))"
   ]
  },
  {
   "cell_type": "markdown",
   "metadata": {},
   "source": [
    "**iv)** Based on these probabilities, provide code for Bob to determine the probability that the selected bag was bag 1 and the probability that is was bag 2 using Bayes' theorem.  &emsp; **\\[6 marks\\]**"
   ]
  },
  {
   "cell_type": "code",
   "execution_count": 89,
   "metadata": {},
   "outputs": [
    {
     "name": "stdout",
     "output_type": "stream",
     "text": [
      "Bag 1 Probability: 0.33\n",
      "Bag 2 Probability: 0.67\n",
      "Bag 1 White Probability: 0.33\n",
      "Bag 2 White Probability: 0.67\n",
      "Bag 1 Black Probability: 0.64\n",
      "Bag 2 Black Probability: 0.36\n"
     ]
    }
   ],
   "source": [
    "# Bayes theorem\n",
    "prob_bag1 = (prob_bag1_w * bag_prob) / ball_w\n",
    "prob_bag2 = 1.0 - prob_bag1\n",
    "print(\"Bag 1 Probability: {:.2f}\".format(prob_bag1))\n",
    "print(\"Bag 2 Probability: {:.2f}\".format(prob_bag2))\n",
    "\n",
    "# Bayes theorem\n",
    "prob_bag1_white = (prob_bag1_w * bag_prob) / ball_w\n",
    "prob_bag2_white = 1.0 - prob_bag1_white\n",
    "print(\"Bag 1 White Probability: {:.2f}\".format(prob_bag1_white))\n",
    "print(\"Bag 2 White Probability: {:.2f}\".format(prob_bag2_white))\n",
    "\n",
    "# Bayes theorem\n",
    "prob_bag1_black = (prob_bag1_b * bag_prob) / ball_b\n",
    "prob_bag2_black = 1.0 - prob_bag1_black\n",
    "print(\"Bag 1 Black Probability: {:.2f}\".format(prob_bag1_black))\n",
    "print(\"Bag 2 Black Probability: {:.2f}\".format(prob_bag2_black))"
   ]
  },
  {
   "cell_type": "markdown",
   "metadata": {},
   "source": [
    "**v)** Suppose Alice replaces the ball in the bag and proceeds to select another ball at random. Based on the evidence available to Bob so far, provide code to enable him to determine the probability that this ball will be the same colour has the first one. (Note: you will need to allow for the possibility that the first ball was white or black.)  &emsp; **\\[4 marks\\]**"
   ]
  },
  {
   "cell_type": "code",
   "execution_count": 82,
   "metadata": {},
   "outputs": [
    {
     "name": "stdout",
     "output_type": "stream",
     "text": [
      "Bag 1 Probability: 0.33\n",
      "Bag 2 Probability: 0.67\n",
      "Bag 1 White Probability: 0.33\n",
      "Bag 2 White Probability: 0.67\n",
      "Bag 1 Black Probability: 0.64\n",
      "Bag 2 Black Probability: 0.36\n"
     ]
    }
   ],
   "source": [
    "# Reset prior probabilities\n",
    "prob_bag1_w = prob_bag1_white \n",
    "prob_bag2_w = prob_bag2_white\n",
    "\n",
    "prob_bag1_b = prob_bag1_black\n",
    "prob_bag2_b = prob_bag2_black\n",
    "\n",
    "# Repeat the process\n",
    "\n",
    "# Total Probability\n",
    "ball_w = prob_bag1_w * bag_prob + prob_bag2_w * bag_prob\n",
    "\n",
    "# Bayes Theorem\n",
    "prob_bag1 = (prob_bag1_w * bag_prob) / ball_w\n",
    "prob_bag2 = 1.0 - prob_bag1\n",
    "\n",
    "print(\"Bag 1 Probability: {:.2f}\".format(prob_bag1))\n",
    "print(\"Bag 2 Probability: {:.2f}\".format(prob_bag2))\n",
    "\n",
    "# Bayes theorem\n",
    "prob_bag1_white = (prob_bag1_w * bag_prob) / ball_w\n",
    "prob_bag2_white = 1.0 - prob_bag1_white\n",
    "print(\"Bag 1 White Probability: {:.2f}\".format(prob_bag1_white))\n",
    "print(\"Bag 2 White Probability: {:.2f}\".format(prob_bag2_white))\n",
    "\n",
    "# Total probability\n",
    "ball_b = prob_bag1_b * bag_prob + prob_bag2_b * bag_prob\n",
    "\n",
    "# Bayes theorem\n",
    "prob_bag1_black = (prob_bag1_b * bag_prob) / ball_b\n",
    "prob_bag2_black = 1.0 - prob_bag1_black\n",
    "print(\"Bag 1 Black Probability: {:.2f}\".format(prob_bag1_black))\n",
    "print(\"Bag 2 Black Probability: {:.2f}\".format(prob_bag2_black))"
   ]
  },
  {
   "cell_type": "markdown",
   "metadata": {},
   "source": [
    "### <font color=blue>Question 2 Part B</font>\n",
    "\n",
    "Consider again the same scenario as in part A, except that Alice now selects 10 balls randomly with replacement from the selected bag. She keeps a record of the colours of the balls and then presents this record to Bob.\n",
    "\n",
    "**i)** Write code to simulate Alice's selection of the 10 balls. (Hint: you can use a list to record the colour of each ball. The output should display the list.)  &emsp; **\\[8 marks\\]**\n",
    "\n",
    "Mark breakdown: \n",
    "- 1 mark for selecting the bag\n",
    "- 4 marks for selecting the white or black balls \n",
    "- 3 marks for keeping a list of the colours selected and displaying them"
   ]
  },
  {
   "cell_type": "code",
   "execution_count": 88,
   "metadata": {},
   "outputs": [
    {
     "name": "stdout",
     "output_type": "stream",
     "text": [
      "Normal Version - Randomised\n",
      "\n",
      "Selected Bag 2 \n",
      "\n",
      "Black Ball\n",
      "Black Ball\n",
      "White Ball\n",
      "Black Ball\n",
      "White Ball\n",
      "White Ball\n",
      "Black Ball\n",
      "White Ball\n",
      "Black Ball\n",
      "White Ball\n",
      "\n",
      "or\n",
      "\n",
      "Diplayed List Version - Re-Randomised\n",
      "\n",
      "Selected Bag 1 \n",
      "\n"
     ]
    },
    {
     "data": {
      "text/plain": [
       "['Black Ball',\n",
       " 'White Ball',\n",
       " 'Black Ball',\n",
       " 'Black Ball',\n",
       " 'Black Ball',\n",
       " 'Black Ball',\n",
       " 'Black Ball',\n",
       " 'White Ball',\n",
       " 'Black Ball',\n",
       " 'Black Ball']"
      ]
     },
     "metadata": {},
     "output_type": "display_data"
    }
   ],
   "source": [
    "# this is the version without the list, but as list was requested\n",
    "# I made another one with a list below\n",
    "\n",
    "###########################################################################\n",
    "# Normal Version\n",
    "###########################################################################\n",
    "\n",
    "print(\"Normal Version - Randomised\\n\")\n",
    "\n",
    "# Copied code from previous bag selection for new bag selection each time\n",
    "random_bag = np.random.random()\n",
    "result = \"\"\n",
    "\n",
    "if random_bag < Coin:\n",
    "    result = Heads\n",
    "else:\n",
    "    result = Tails\n",
    "\n",
    "bag = result\n",
    "print(\"Selected Bag\", bag, \"\\n\")\n",
    "\n",
    "\n",
    "for i in range(10):\n",
    "    random_ball = np.random.random()\n",
    "    if bag == 1:\n",
    "\n",
    "        if random_ball <= 0.3:\n",
    "            colour = \"White Ball\" \n",
    "        else:\n",
    "            colour = \"Black Ball\"\n",
    "\n",
    "    elif bag == 2:\n",
    "\n",
    "        if random_ball <= 0.6:\n",
    "            colour = \"White Ball\" \n",
    "        else:\n",
    "            colour = \"Black Ball\"\n",
    "\n",
    "    print(colour)\n",
    "\n",
    "print(\"\\nor\\n\")\n",
    "\n",
    "###########################################################################\n",
    "# List version\n",
    "###########################################################################\n",
    "\n",
    "import pandas as pd\n",
    "\n",
    "print(\"List Version - Re-Randomised\\n\")\n",
    "\n",
    "# Copied code from previous bag selection for new bag selection each time\n",
    "random_bag = np.random.random()\n",
    "result = \"\"\n",
    "\n",
    "if random_bag < Coin:\n",
    "    result = Heads\n",
    "else:\n",
    "    result = Tails\n",
    "\n",
    "bag = result\n",
    "print(\"Selected Bag\", bag, \"\\n\")\n",
    "\n",
    "\n",
    "# Alice's selection of balls\n",
    "alice_selection = []\n",
    "\n",
    "# 10 times\n",
    "for i in range(10):\n",
    "    \n",
    "    random_ball = np.random.random()\n",
    "    \n",
    "    if bag == 1:\n",
    "        if random_ball <= 0.3:\n",
    "            alice_selection.append(\"White Ball\") \n",
    "        else:\n",
    "            alice_selection.append(\"Black Ball\")\n",
    "            \n",
    "    elif bag == 2: \n",
    "        if random_ball <= 0.6: \n",
    "            alice_selection.append(\"White Ball\")\n",
    "        else: \n",
    "            alice_selection.append(\"Black Ball\")\n",
    "\n",
    "            \n",
    "# Displays 10 balls from Alice's selection\n",
    "display(alice_selection)"
   ]
  },
  {
   "cell_type": "markdown",
   "metadata": {},
   "source": [
    "**ii)** Bob now proceeds to work out the probability that the selected bag was bag 1 and the probability that it was bag 2 after each outcome. Provide code to enable him to determine these probabilities. Your code should determine the probabilities after one ball is selected, after two balls are selected, ..., after ten balls are selected and present the output in a table.  &emsp; **\\[12 marks\\]**\n",
    "\n",
    "Mark breakdown: \n",
    "- 4 marks for calculation of probabilities\n",
    "- 4 marks for appropriate iteration and selection\n",
    "- 4 marks for displaying correct output in a table"
   ]
  },
  {
   "cell_type": "code",
   "execution_count": 72,
   "metadata": {},
   "outputs": [
    {
     "name": "stdout",
     "output_type": "stream",
     "text": [
      "Bag 1 Probability: 0.50\n",
      "Bag 2 Probability: 0.50\n",
      "Bag 1 Ball 2 White Probability: 0.70\n",
      "Bag 2 Ball 2 White Probability: 0.30\n",
      "Bag 1 Ball 2 Black Probability: 0.47\n",
      "Bag 2 Ball 2 Black Probability: 0.53\n"
     ]
    },
    {
     "data": {
      "text/html": [
       "<div>\n",
       "<style scoped>\n",
       "    .dataframe tbody tr th:only-of-type {\n",
       "        vertical-align: middle;\n",
       "    }\n",
       "\n",
       "    .dataframe tbody tr th {\n",
       "        vertical-align: top;\n",
       "    }\n",
       "\n",
       "    .dataframe thead th {\n",
       "        text-align: right;\n",
       "    }\n",
       "</style>\n",
       "<table border=\"1\" class=\"dataframe\">\n",
       "  <thead>\n",
       "    <tr style=\"text-align: right;\">\n",
       "      <th></th>\n",
       "      <th>0</th>\n",
       "    </tr>\n",
       "  </thead>\n",
       "  <tbody>\n",
       "    <tr>\n",
       "      <th>0</th>\n",
       "      <td>0.696917</td>\n",
       "    </tr>\n",
       "    <tr>\n",
       "      <th>1</th>\n",
       "      <td>0.303083</td>\n",
       "    </tr>\n",
       "    <tr>\n",
       "      <th>2</th>\n",
       "      <td>0.500000</td>\n",
       "    </tr>\n",
       "    <tr>\n",
       "      <th>3</th>\n",
       "      <td>0.500000</td>\n",
       "    </tr>\n",
       "    <tr>\n",
       "      <th>4</th>\n",
       "      <td>0.696917</td>\n",
       "    </tr>\n",
       "    <tr>\n",
       "      <th>5</th>\n",
       "      <td>0.303083</td>\n",
       "    </tr>\n",
       "    <tr>\n",
       "      <th>6</th>\n",
       "      <td>0.500000</td>\n",
       "    </tr>\n",
       "    <tr>\n",
       "      <th>7</th>\n",
       "      <td>0.500000</td>\n",
       "    </tr>\n",
       "    <tr>\n",
       "      <th>8</th>\n",
       "      <td>0.696917</td>\n",
       "    </tr>\n",
       "    <tr>\n",
       "      <th>9</th>\n",
       "      <td>0.303083</td>\n",
       "    </tr>\n",
       "  </tbody>\n",
       "</table>\n",
       "</div>"
      ],
      "text/plain": [
       "          0\n",
       "0  0.696917\n",
       "1  0.303083\n",
       "2  0.500000\n",
       "3  0.500000\n",
       "4  0.696917\n",
       "5  0.303083\n",
       "6  0.500000\n",
       "7  0.500000\n",
       "8  0.696917\n",
       "9  0.303083"
      ]
     },
     "metadata": {},
     "output_type": "display_data"
    }
   ],
   "source": [
    "import pandas as pd\n",
    "\n",
    "# Bayes theorem \n",
    "selected_bag1 = (bag * Coin) / bag\n",
    "selected_bag2 = 1.0 - selected_bag1\n",
    "print(\"Bag 1 Probability: {:.2f}\".format(selected_bag1))\n",
    "print(\"Bag 2 Probability: {:.2f}\".format(selected_bag2))\n",
    "\n",
    "# Bayes theorem\n",
    "prob_bag1_w2 = (prob_bag1_w * bag_prob) / ball_w\n",
    "prob_bag2_w2 = 1.0 - prob_bag1_w2\n",
    "print(\"Bag 1 Ball 2 White Probability: {:.2f}\".format(prob_bag1_w2))\n",
    "print(\"Bag 2 Ball 2 White Probability: {:.2f}\".format(prob_bag2_w2))\n",
    "\n",
    "# Bayes theorem\n",
    "prob_bag1_b2 = (prob_bag1_b * bag_prob) / ball_b\n",
    "prob_bag2_b2 = 1.0 - prob_bag1_b2\n",
    "print(\"Bag 1 Ball 2 Black Probability: {:.2f}\".format(prob_bag1_b2))\n",
    "print(\"Bag 2 Ball 2 Black Probability: {:.2f}\".format(prob_bag2_b2))\n",
    "\n",
    "\n",
    "# Array list and table display\n",
    "\n",
    "Bag_Probabilities_List = []\n",
    "\n",
    "for i in range(3):\n",
    "    # Bayes Theorem\n",
    "    prob_bag1 = (prob_bag1_w * bag_prob) / ball_w\n",
    "    prob_bag2 = 1.0 - prob_bag1\n",
    "    \n",
    "    Bag_Probabilities_List.append(prob_bag1)\n",
    "    Bag_Probabilities_List.append(prob_bag2)\n",
    "\n",
    "    ball_w2 = ball_w * bag_prob + ball_w * bag_prob\n",
    "    ball_b2 = ball_b * bag_prob + ball_w * bag_prob\n",
    "    \n",
    "    prob_bag1 = (ball_w2 * bag_prob) / ball_b2\n",
    "    prob_bag2 = 1.0 - prob_bag1\n",
    "\n",
    "    Bag_Probabilities_List.append(prob_bag1)\n",
    "    Bag_Probabilities_List.append(prob_bag2)\n",
    "\n",
    "table = pd.DataFrame(Bag_Probabilities_List)\n",
    "display(table.head(10))"
   ]
  },
  {
   "cell_type": "markdown",
   "metadata": {},
   "source": [
    "## <font color=blue>Question 3: Statistics</font>\n",
    "\n",
    "For this question you will need to use the file `tips` dataset, which is included as part of the [Seaborn library](https://seaborn.pydata.org/).\n",
    "\n",
    "\n",
    "**i)**\tLoad the dataset, display the first 10 entries in it and provide summary information including the mean, standard deviation and maximum and minimum for each numerical variable in the dataset. &emsp; **\\[6 marks\\]**\n",
    "\n",
    "Mark breakdown:\n",
    "- 2 marks for loading dataset\n",
    "- 2 marks for displaying 10 entries \n",
    "- 2 marks for summary stats"
   ]
  },
  {
   "cell_type": "code",
   "execution_count": 466,
   "metadata": {},
   "outputs": [
    {
     "name": "stdout",
     "output_type": "stream",
     "text": [
      "\n",
      "Tips First 10 Entries\n",
      "\n"
     ]
    },
    {
     "data": {
      "text/html": [
       "<div>\n",
       "<style scoped>\n",
       "    .dataframe tbody tr th:only-of-type {\n",
       "        vertical-align: middle;\n",
       "    }\n",
       "\n",
       "    .dataframe tbody tr th {\n",
       "        vertical-align: top;\n",
       "    }\n",
       "\n",
       "    .dataframe thead th {\n",
       "        text-align: right;\n",
       "    }\n",
       "</style>\n",
       "<table border=\"1\" class=\"dataframe\">\n",
       "  <thead>\n",
       "    <tr style=\"text-align: right;\">\n",
       "      <th></th>\n",
       "      <th>total_bill</th>\n",
       "      <th>tip</th>\n",
       "      <th>sex</th>\n",
       "      <th>smoker</th>\n",
       "      <th>day</th>\n",
       "      <th>time</th>\n",
       "      <th>size</th>\n",
       "    </tr>\n",
       "  </thead>\n",
       "  <tbody>\n",
       "    <tr>\n",
       "      <th>0</th>\n",
       "      <td>16.99</td>\n",
       "      <td>1.01</td>\n",
       "      <td>Female</td>\n",
       "      <td>No</td>\n",
       "      <td>Sun</td>\n",
       "      <td>Dinner</td>\n",
       "      <td>2</td>\n",
       "    </tr>\n",
       "    <tr>\n",
       "      <th>1</th>\n",
       "      <td>10.34</td>\n",
       "      <td>1.66</td>\n",
       "      <td>Male</td>\n",
       "      <td>No</td>\n",
       "      <td>Sun</td>\n",
       "      <td>Dinner</td>\n",
       "      <td>3</td>\n",
       "    </tr>\n",
       "    <tr>\n",
       "      <th>2</th>\n",
       "      <td>21.01</td>\n",
       "      <td>3.50</td>\n",
       "      <td>Male</td>\n",
       "      <td>No</td>\n",
       "      <td>Sun</td>\n",
       "      <td>Dinner</td>\n",
       "      <td>3</td>\n",
       "    </tr>\n",
       "    <tr>\n",
       "      <th>3</th>\n",
       "      <td>23.68</td>\n",
       "      <td>3.31</td>\n",
       "      <td>Male</td>\n",
       "      <td>No</td>\n",
       "      <td>Sun</td>\n",
       "      <td>Dinner</td>\n",
       "      <td>2</td>\n",
       "    </tr>\n",
       "    <tr>\n",
       "      <th>4</th>\n",
       "      <td>24.59</td>\n",
       "      <td>3.61</td>\n",
       "      <td>Female</td>\n",
       "      <td>No</td>\n",
       "      <td>Sun</td>\n",
       "      <td>Dinner</td>\n",
       "      <td>4</td>\n",
       "    </tr>\n",
       "    <tr>\n",
       "      <th>5</th>\n",
       "      <td>25.29</td>\n",
       "      <td>4.71</td>\n",
       "      <td>Male</td>\n",
       "      <td>No</td>\n",
       "      <td>Sun</td>\n",
       "      <td>Dinner</td>\n",
       "      <td>4</td>\n",
       "    </tr>\n",
       "    <tr>\n",
       "      <th>6</th>\n",
       "      <td>8.77</td>\n",
       "      <td>2.00</td>\n",
       "      <td>Male</td>\n",
       "      <td>No</td>\n",
       "      <td>Sun</td>\n",
       "      <td>Dinner</td>\n",
       "      <td>2</td>\n",
       "    </tr>\n",
       "    <tr>\n",
       "      <th>7</th>\n",
       "      <td>26.88</td>\n",
       "      <td>3.12</td>\n",
       "      <td>Male</td>\n",
       "      <td>No</td>\n",
       "      <td>Sun</td>\n",
       "      <td>Dinner</td>\n",
       "      <td>4</td>\n",
       "    </tr>\n",
       "    <tr>\n",
       "      <th>8</th>\n",
       "      <td>15.04</td>\n",
       "      <td>1.96</td>\n",
       "      <td>Male</td>\n",
       "      <td>No</td>\n",
       "      <td>Sun</td>\n",
       "      <td>Dinner</td>\n",
       "      <td>2</td>\n",
       "    </tr>\n",
       "    <tr>\n",
       "      <th>9</th>\n",
       "      <td>14.78</td>\n",
       "      <td>3.23</td>\n",
       "      <td>Male</td>\n",
       "      <td>No</td>\n",
       "      <td>Sun</td>\n",
       "      <td>Dinner</td>\n",
       "      <td>2</td>\n",
       "    </tr>\n",
       "  </tbody>\n",
       "</table>\n",
       "</div>"
      ],
      "text/plain": [
       "   total_bill   tip     sex smoker  day    time  size\n",
       "0       16.99  1.01  Female     No  Sun  Dinner     2\n",
       "1       10.34  1.66    Male     No  Sun  Dinner     3\n",
       "2       21.01  3.50    Male     No  Sun  Dinner     3\n",
       "3       23.68  3.31    Male     No  Sun  Dinner     2\n",
       "4       24.59  3.61  Female     No  Sun  Dinner     4\n",
       "5       25.29  4.71    Male     No  Sun  Dinner     4\n",
       "6        8.77  2.00    Male     No  Sun  Dinner     2\n",
       "7       26.88  3.12    Male     No  Sun  Dinner     4\n",
       "8       15.04  1.96    Male     No  Sun  Dinner     2\n",
       "9       14.78  3.23    Male     No  Sun  Dinner     2"
      ]
     },
     "metadata": {},
     "output_type": "display_data"
    },
    {
     "name": "stdout",
     "output_type": "stream",
     "text": [
      "\n",
      "Tips Summary\n",
      "\n"
     ]
    },
    {
     "data": {
      "text/html": [
       "<div>\n",
       "<style scoped>\n",
       "    .dataframe tbody tr th:only-of-type {\n",
       "        vertical-align: middle;\n",
       "    }\n",
       "\n",
       "    .dataframe tbody tr th {\n",
       "        vertical-align: top;\n",
       "    }\n",
       "\n",
       "    .dataframe thead th {\n",
       "        text-align: right;\n",
       "    }\n",
       "</style>\n",
       "<table border=\"1\" class=\"dataframe\">\n",
       "  <thead>\n",
       "    <tr style=\"text-align: right;\">\n",
       "      <th></th>\n",
       "      <th>total_bill</th>\n",
       "      <th>tip</th>\n",
       "      <th>size</th>\n",
       "    </tr>\n",
       "  </thead>\n",
       "  <tbody>\n",
       "    <tr>\n",
       "      <th>count</th>\n",
       "      <td>244.000000</td>\n",
       "      <td>244.000000</td>\n",
       "      <td>244.000000</td>\n",
       "    </tr>\n",
       "    <tr>\n",
       "      <th>mean</th>\n",
       "      <td>19.785943</td>\n",
       "      <td>2.998279</td>\n",
       "      <td>2.569672</td>\n",
       "    </tr>\n",
       "    <tr>\n",
       "      <th>std</th>\n",
       "      <td>8.902412</td>\n",
       "      <td>1.383638</td>\n",
       "      <td>0.951100</td>\n",
       "    </tr>\n",
       "    <tr>\n",
       "      <th>min</th>\n",
       "      <td>3.070000</td>\n",
       "      <td>1.000000</td>\n",
       "      <td>1.000000</td>\n",
       "    </tr>\n",
       "    <tr>\n",
       "      <th>25%</th>\n",
       "      <td>13.347500</td>\n",
       "      <td>2.000000</td>\n",
       "      <td>2.000000</td>\n",
       "    </tr>\n",
       "    <tr>\n",
       "      <th>50%</th>\n",
       "      <td>17.795000</td>\n",
       "      <td>2.900000</td>\n",
       "      <td>2.000000</td>\n",
       "    </tr>\n",
       "    <tr>\n",
       "      <th>75%</th>\n",
       "      <td>24.127500</td>\n",
       "      <td>3.562500</td>\n",
       "      <td>3.000000</td>\n",
       "    </tr>\n",
       "    <tr>\n",
       "      <th>max</th>\n",
       "      <td>50.810000</td>\n",
       "      <td>10.000000</td>\n",
       "      <td>6.000000</td>\n",
       "    </tr>\n",
       "  </tbody>\n",
       "</table>\n",
       "</div>"
      ],
      "text/plain": [
       "       total_bill         tip        size\n",
       "count  244.000000  244.000000  244.000000\n",
       "mean    19.785943    2.998279    2.569672\n",
       "std      8.902412    1.383638    0.951100\n",
       "min      3.070000    1.000000    1.000000\n",
       "25%     13.347500    2.000000    2.000000\n",
       "50%     17.795000    2.900000    2.000000\n",
       "75%     24.127500    3.562500    3.000000\n",
       "max     50.810000   10.000000    6.000000"
      ]
     },
     "metadata": {},
     "output_type": "display_data"
    }
   ],
   "source": [
    "import seaborn as sb\n",
    "\n",
    "tips = sb.load_dataset(\"tips\")\n",
    "print(\"\\nTips First 10 Entries\\n\")\n",
    "display(tips.head(10))\n",
    "\n",
    "print(\"\\nTips Summary\\n\")\n",
    "display(tips.describe())"
   ]
  },
  {
   "cell_type": "markdown",
   "metadata": {},
   "source": [
    "**ii)**\tDisplay information about the five highest total bills in the dataset and the five smallest tips.  &emsp; **\\[4 marks\\]**"
   ]
  },
  {
   "cell_type": "code",
   "execution_count": 387,
   "metadata": {},
   "outputs": [
    {
     "name": "stdout",
     "output_type": "stream",
     "text": [
      "5 Highest Total Bills\n",
      "\n"
     ]
    },
    {
     "data": {
      "text/html": [
       "<div>\n",
       "<style scoped>\n",
       "    .dataframe tbody tr th:only-of-type {\n",
       "        vertical-align: middle;\n",
       "    }\n",
       "\n",
       "    .dataframe tbody tr th {\n",
       "        vertical-align: top;\n",
       "    }\n",
       "\n",
       "    .dataframe thead th {\n",
       "        text-align: right;\n",
       "    }\n",
       "</style>\n",
       "<table border=\"1\" class=\"dataframe\">\n",
       "  <thead>\n",
       "    <tr style=\"text-align: right;\">\n",
       "      <th></th>\n",
       "      <th>total_bill</th>\n",
       "      <th>tip</th>\n",
       "      <th>sex</th>\n",
       "      <th>smoker</th>\n",
       "      <th>day</th>\n",
       "      <th>time</th>\n",
       "      <th>size</th>\n",
       "    </tr>\n",
       "  </thead>\n",
       "  <tbody>\n",
       "    <tr>\n",
       "      <th>170</th>\n",
       "      <td>50.81</td>\n",
       "      <td>10.00</td>\n",
       "      <td>Male</td>\n",
       "      <td>Yes</td>\n",
       "      <td>Sat</td>\n",
       "      <td>Dinner</td>\n",
       "      <td>3</td>\n",
       "    </tr>\n",
       "    <tr>\n",
       "      <th>212</th>\n",
       "      <td>48.33</td>\n",
       "      <td>9.00</td>\n",
       "      <td>Male</td>\n",
       "      <td>No</td>\n",
       "      <td>Sat</td>\n",
       "      <td>Dinner</td>\n",
       "      <td>4</td>\n",
       "    </tr>\n",
       "    <tr>\n",
       "      <th>59</th>\n",
       "      <td>48.27</td>\n",
       "      <td>6.73</td>\n",
       "      <td>Male</td>\n",
       "      <td>No</td>\n",
       "      <td>Sat</td>\n",
       "      <td>Dinner</td>\n",
       "      <td>4</td>\n",
       "    </tr>\n",
       "    <tr>\n",
       "      <th>156</th>\n",
       "      <td>48.17</td>\n",
       "      <td>5.00</td>\n",
       "      <td>Male</td>\n",
       "      <td>No</td>\n",
       "      <td>Sun</td>\n",
       "      <td>Dinner</td>\n",
       "      <td>6</td>\n",
       "    </tr>\n",
       "    <tr>\n",
       "      <th>182</th>\n",
       "      <td>45.35</td>\n",
       "      <td>3.50</td>\n",
       "      <td>Male</td>\n",
       "      <td>Yes</td>\n",
       "      <td>Sun</td>\n",
       "      <td>Dinner</td>\n",
       "      <td>3</td>\n",
       "    </tr>\n",
       "  </tbody>\n",
       "</table>\n",
       "</div>"
      ],
      "text/plain": [
       "     total_bill    tip   sex smoker  day    time  size\n",
       "170       50.81  10.00  Male    Yes  Sat  Dinner     3\n",
       "212       48.33   9.00  Male     No  Sat  Dinner     4\n",
       "59        48.27   6.73  Male     No  Sat  Dinner     4\n",
       "156       48.17   5.00  Male     No  Sun  Dinner     6\n",
       "182       45.35   3.50  Male    Yes  Sun  Dinner     3"
      ]
     },
     "metadata": {},
     "output_type": "display_data"
    },
    {
     "data": {
      "text/plain": [
       "'5 Smallest Tips\\n'"
      ]
     },
     "metadata": {},
     "output_type": "display_data"
    },
    {
     "data": {
      "text/html": [
       "<div>\n",
       "<style scoped>\n",
       "    .dataframe tbody tr th:only-of-type {\n",
       "        vertical-align: middle;\n",
       "    }\n",
       "\n",
       "    .dataframe tbody tr th {\n",
       "        vertical-align: top;\n",
       "    }\n",
       "\n",
       "    .dataframe thead th {\n",
       "        text-align: right;\n",
       "    }\n",
       "</style>\n",
       "<table border=\"1\" class=\"dataframe\">\n",
       "  <thead>\n",
       "    <tr style=\"text-align: right;\">\n",
       "      <th></th>\n",
       "      <th>total_bill</th>\n",
       "      <th>tip</th>\n",
       "      <th>sex</th>\n",
       "      <th>smoker</th>\n",
       "      <th>day</th>\n",
       "      <th>time</th>\n",
       "      <th>size</th>\n",
       "    </tr>\n",
       "  </thead>\n",
       "  <tbody>\n",
       "    <tr>\n",
       "      <th>67</th>\n",
       "      <td>3.07</td>\n",
       "      <td>1.00</td>\n",
       "      <td>Female</td>\n",
       "      <td>Yes</td>\n",
       "      <td>Sat</td>\n",
       "      <td>Dinner</td>\n",
       "      <td>1</td>\n",
       "    </tr>\n",
       "    <tr>\n",
       "      <th>92</th>\n",
       "      <td>5.75</td>\n",
       "      <td>1.00</td>\n",
       "      <td>Female</td>\n",
       "      <td>Yes</td>\n",
       "      <td>Fri</td>\n",
       "      <td>Dinner</td>\n",
       "      <td>2</td>\n",
       "    </tr>\n",
       "    <tr>\n",
       "      <th>111</th>\n",
       "      <td>7.25</td>\n",
       "      <td>1.00</td>\n",
       "      <td>Female</td>\n",
       "      <td>No</td>\n",
       "      <td>Sat</td>\n",
       "      <td>Dinner</td>\n",
       "      <td>1</td>\n",
       "    </tr>\n",
       "    <tr>\n",
       "      <th>236</th>\n",
       "      <td>12.60</td>\n",
       "      <td>1.00</td>\n",
       "      <td>Male</td>\n",
       "      <td>Yes</td>\n",
       "      <td>Sat</td>\n",
       "      <td>Dinner</td>\n",
       "      <td>2</td>\n",
       "    </tr>\n",
       "    <tr>\n",
       "      <th>0</th>\n",
       "      <td>16.99</td>\n",
       "      <td>1.01</td>\n",
       "      <td>Female</td>\n",
       "      <td>No</td>\n",
       "      <td>Sun</td>\n",
       "      <td>Dinner</td>\n",
       "      <td>2</td>\n",
       "    </tr>\n",
       "  </tbody>\n",
       "</table>\n",
       "</div>"
      ],
      "text/plain": [
       "     total_bill   tip     sex smoker  day    time  size\n",
       "67         3.07  1.00  Female    Yes  Sat  Dinner     1\n",
       "92         5.75  1.00  Female    Yes  Fri  Dinner     2\n",
       "111        7.25  1.00  Female     No  Sat  Dinner     1\n",
       "236       12.60  1.00    Male    Yes  Sat  Dinner     2\n",
       "0         16.99  1.01  Female     No  Sun  Dinner     2"
      ]
     },
     "metadata": {},
     "output_type": "display_data"
    }
   ],
   "source": [
    "# 5 Highest Total Bills\n",
    "print(\"5 Highest Total Bills\\n\")\n",
    "five_highest_total_bills = tips.nlargest(5, [\"total_bill\"])\n",
    "display(five_highest_total_bills)\n",
    "\n",
    "# 5 Smallest Tips\n",
    "(\"5 Smallest Tips\\n\")\n",
    "five_smallest_tips = tips.nsmallest(5, [\"tip\"])\n",
    "display(five_smallest_tips)"
   ]
  },
  {
   "cell_type": "markdown",
   "metadata": {},
   "source": [
    "**iii)**\tDetermine the median value and interquartile range for the tips.  &emsp; **\\[4 marks\\]**"
   ]
  },
  {
   "cell_type": "code",
   "execution_count": 411,
   "metadata": {},
   "outputs": [
    {
     "name": "stdout",
     "output_type": "stream",
     "text": [
      "Median and Interquartile Range for Tips\n",
      "\n",
      "Tips Median Value = 2.90\n",
      "Tips Lower Quartile (Q1) = 2.00\n",
      "Tips Upper Quartile (Q3) = 3.56\n",
      "Tips Interquartile Range (IQR) = 1.56\n"
     ]
    }
   ],
   "source": [
    "print(\"Median and Interquartile Range for Tips\\n\")\n",
    "tips_median = tips['tip'].median()\n",
    "print(\"Tips Median Value = {:.2f}\".format(tips_median))\n",
    "\n",
    "tips_Q1 = tips['tip'].quantile(0.25)\n",
    "print(\"Tips Lower Quartile (Q1) = {:.2f}\".format(tips_Q1))\n",
    "\n",
    "tips_Q3 = tips['tip'].quantile(0.75)\n",
    "print(\"Tips Upper Quartile (Q3) = {:.2f}\".format(tips_Q3))\n",
    "\n",
    "tips_IQR = tips_Q3 - tips_Q1\n",
    "# print(\"\\nTips IQR = Q3 - Q1\")\n",
    "# print(\"\\nTips IQR = 3.56 - 2.00\")\n",
    "\n",
    "print(\"Tips Interquartile Range (IQR) = {:.2f}\".format(tips_IQR))"
   ]
  },
  {
   "cell_type": "markdown",
   "metadata": {},
   "source": [
    "**iv)**\tFind any outliers in the tips using the 1.5(IQR) rule. (For full marks the total bill as well as the tip should be identified for each outlier.)  &emsp; **\\[6 marks\\]**"
   ]
  },
  {
   "cell_type": "code",
   "execution_count": 393,
   "metadata": {},
   "outputs": [
    {
     "data": {
      "text/html": [
       "<div>\n",
       "<style scoped>\n",
       "    .dataframe tbody tr th:only-of-type {\n",
       "        vertical-align: middle;\n",
       "    }\n",
       "\n",
       "    .dataframe tbody tr th {\n",
       "        vertical-align: top;\n",
       "    }\n",
       "\n",
       "    .dataframe thead th {\n",
       "        text-align: right;\n",
       "    }\n",
       "</style>\n",
       "<table border=\"1\" class=\"dataframe\">\n",
       "  <thead>\n",
       "    <tr style=\"text-align: right;\">\n",
       "      <th></th>\n",
       "      <th>total_bill</th>\n",
       "      <th>tip</th>\n",
       "      <th>sex</th>\n",
       "      <th>smoker</th>\n",
       "      <th>day</th>\n",
       "      <th>time</th>\n",
       "      <th>size</th>\n",
       "    </tr>\n",
       "  </thead>\n",
       "  <tbody>\n",
       "    <tr>\n",
       "      <th>23</th>\n",
       "      <td>39.42</td>\n",
       "      <td>7.58</td>\n",
       "      <td>Male</td>\n",
       "      <td>No</td>\n",
       "      <td>Sat</td>\n",
       "      <td>Dinner</td>\n",
       "      <td>4</td>\n",
       "    </tr>\n",
       "    <tr>\n",
       "      <th>47</th>\n",
       "      <td>32.40</td>\n",
       "      <td>6.00</td>\n",
       "      <td>Male</td>\n",
       "      <td>No</td>\n",
       "      <td>Sun</td>\n",
       "      <td>Dinner</td>\n",
       "      <td>4</td>\n",
       "    </tr>\n",
       "    <tr>\n",
       "      <th>59</th>\n",
       "      <td>48.27</td>\n",
       "      <td>6.73</td>\n",
       "      <td>Male</td>\n",
       "      <td>No</td>\n",
       "      <td>Sat</td>\n",
       "      <td>Dinner</td>\n",
       "      <td>4</td>\n",
       "    </tr>\n",
       "    <tr>\n",
       "      <th>141</th>\n",
       "      <td>34.30</td>\n",
       "      <td>6.70</td>\n",
       "      <td>Male</td>\n",
       "      <td>No</td>\n",
       "      <td>Thur</td>\n",
       "      <td>Lunch</td>\n",
       "      <td>6</td>\n",
       "    </tr>\n",
       "    <tr>\n",
       "      <th>170</th>\n",
       "      <td>50.81</td>\n",
       "      <td>10.00</td>\n",
       "      <td>Male</td>\n",
       "      <td>Yes</td>\n",
       "      <td>Sat</td>\n",
       "      <td>Dinner</td>\n",
       "      <td>3</td>\n",
       "    </tr>\n",
       "    <tr>\n",
       "      <th>183</th>\n",
       "      <td>23.17</td>\n",
       "      <td>6.50</td>\n",
       "      <td>Male</td>\n",
       "      <td>Yes</td>\n",
       "      <td>Sun</td>\n",
       "      <td>Dinner</td>\n",
       "      <td>4</td>\n",
       "    </tr>\n",
       "    <tr>\n",
       "      <th>212</th>\n",
       "      <td>48.33</td>\n",
       "      <td>9.00</td>\n",
       "      <td>Male</td>\n",
       "      <td>No</td>\n",
       "      <td>Sat</td>\n",
       "      <td>Dinner</td>\n",
       "      <td>4</td>\n",
       "    </tr>\n",
       "    <tr>\n",
       "      <th>214</th>\n",
       "      <td>28.17</td>\n",
       "      <td>6.50</td>\n",
       "      <td>Female</td>\n",
       "      <td>Yes</td>\n",
       "      <td>Sat</td>\n",
       "      <td>Dinner</td>\n",
       "      <td>3</td>\n",
       "    </tr>\n",
       "    <tr>\n",
       "      <th>239</th>\n",
       "      <td>29.03</td>\n",
       "      <td>5.92</td>\n",
       "      <td>Male</td>\n",
       "      <td>No</td>\n",
       "      <td>Sat</td>\n",
       "      <td>Dinner</td>\n",
       "      <td>3</td>\n",
       "    </tr>\n",
       "  </tbody>\n",
       "</table>\n",
       "</div>"
      ],
      "text/plain": [
       "     total_bill    tip     sex smoker   day    time  size\n",
       "23        39.42   7.58    Male     No   Sat  Dinner     4\n",
       "47        32.40   6.00    Male     No   Sun  Dinner     4\n",
       "59        48.27   6.73    Male     No   Sat  Dinner     4\n",
       "141       34.30   6.70    Male     No  Thur   Lunch     6\n",
       "170       50.81  10.00    Male    Yes   Sat  Dinner     3\n",
       "183       23.17   6.50    Male    Yes   Sun  Dinner     4\n",
       "212       48.33   9.00    Male     No   Sat  Dinner     4\n",
       "214       28.17   6.50  Female    Yes   Sat  Dinner     3\n",
       "239       29.03   5.92    Male     No   Sat  Dinner     3"
      ]
     },
     "metadata": {},
     "output_type": "display_data"
    },
    {
     "data": {
      "text/html": [
       "<div>\n",
       "<style scoped>\n",
       "    .dataframe tbody tr th:only-of-type {\n",
       "        vertical-align: middle;\n",
       "    }\n",
       "\n",
       "    .dataframe tbody tr th {\n",
       "        vertical-align: top;\n",
       "    }\n",
       "\n",
       "    .dataframe thead th {\n",
       "        text-align: right;\n",
       "    }\n",
       "</style>\n",
       "<table border=\"1\" class=\"dataframe\">\n",
       "  <thead>\n",
       "    <tr style=\"text-align: right;\">\n",
       "      <th></th>\n",
       "      <th>total_bill</th>\n",
       "      <th>tip</th>\n",
       "      <th>sex</th>\n",
       "      <th>smoker</th>\n",
       "      <th>day</th>\n",
       "      <th>time</th>\n",
       "      <th>size</th>\n",
       "    </tr>\n",
       "  </thead>\n",
       "  <tbody>\n",
       "    <tr>\n",
       "      <th>0</th>\n",
       "      <td>16.99</td>\n",
       "      <td>1.01</td>\n",
       "      <td>Female</td>\n",
       "      <td>No</td>\n",
       "      <td>Sun</td>\n",
       "      <td>Dinner</td>\n",
       "      <td>2</td>\n",
       "    </tr>\n",
       "    <tr>\n",
       "      <th>1</th>\n",
       "      <td>10.34</td>\n",
       "      <td>1.66</td>\n",
       "      <td>Male</td>\n",
       "      <td>No</td>\n",
       "      <td>Sun</td>\n",
       "      <td>Dinner</td>\n",
       "      <td>3</td>\n",
       "    </tr>\n",
       "    <tr>\n",
       "      <th>2</th>\n",
       "      <td>21.01</td>\n",
       "      <td>3.50</td>\n",
       "      <td>Male</td>\n",
       "      <td>No</td>\n",
       "      <td>Sun</td>\n",
       "      <td>Dinner</td>\n",
       "      <td>3</td>\n",
       "    </tr>\n",
       "    <tr>\n",
       "      <th>3</th>\n",
       "      <td>23.68</td>\n",
       "      <td>3.31</td>\n",
       "      <td>Male</td>\n",
       "      <td>No</td>\n",
       "      <td>Sun</td>\n",
       "      <td>Dinner</td>\n",
       "      <td>2</td>\n",
       "    </tr>\n",
       "    <tr>\n",
       "      <th>4</th>\n",
       "      <td>24.59</td>\n",
       "      <td>3.61</td>\n",
       "      <td>Female</td>\n",
       "      <td>No</td>\n",
       "      <td>Sun</td>\n",
       "      <td>Dinner</td>\n",
       "      <td>4</td>\n",
       "    </tr>\n",
       "    <tr>\n",
       "      <th>...</th>\n",
       "      <td>...</td>\n",
       "      <td>...</td>\n",
       "      <td>...</td>\n",
       "      <td>...</td>\n",
       "      <td>...</td>\n",
       "      <td>...</td>\n",
       "      <td>...</td>\n",
       "    </tr>\n",
       "    <tr>\n",
       "      <th>239</th>\n",
       "      <td>29.03</td>\n",
       "      <td>5.92</td>\n",
       "      <td>Male</td>\n",
       "      <td>No</td>\n",
       "      <td>Sat</td>\n",
       "      <td>Dinner</td>\n",
       "      <td>3</td>\n",
       "    </tr>\n",
       "    <tr>\n",
       "      <th>240</th>\n",
       "      <td>27.18</td>\n",
       "      <td>2.00</td>\n",
       "      <td>Female</td>\n",
       "      <td>Yes</td>\n",
       "      <td>Sat</td>\n",
       "      <td>Dinner</td>\n",
       "      <td>2</td>\n",
       "    </tr>\n",
       "    <tr>\n",
       "      <th>241</th>\n",
       "      <td>22.67</td>\n",
       "      <td>2.00</td>\n",
       "      <td>Male</td>\n",
       "      <td>Yes</td>\n",
       "      <td>Sat</td>\n",
       "      <td>Dinner</td>\n",
       "      <td>2</td>\n",
       "    </tr>\n",
       "    <tr>\n",
       "      <th>242</th>\n",
       "      <td>17.82</td>\n",
       "      <td>1.75</td>\n",
       "      <td>Male</td>\n",
       "      <td>No</td>\n",
       "      <td>Sat</td>\n",
       "      <td>Dinner</td>\n",
       "      <td>2</td>\n",
       "    </tr>\n",
       "    <tr>\n",
       "      <th>243</th>\n",
       "      <td>18.78</td>\n",
       "      <td>3.00</td>\n",
       "      <td>Female</td>\n",
       "      <td>No</td>\n",
       "      <td>Thur</td>\n",
       "      <td>Dinner</td>\n",
       "      <td>2</td>\n",
       "    </tr>\n",
       "  </tbody>\n",
       "</table>\n",
       "<p>242 rows × 7 columns</p>\n",
       "</div>"
      ],
      "text/plain": [
       "     total_bill   tip     sex smoker   day    time  size\n",
       "0         16.99  1.01  Female     No   Sun  Dinner     2\n",
       "1         10.34  1.66    Male     No   Sun  Dinner     3\n",
       "2         21.01  3.50    Male     No   Sun  Dinner     3\n",
       "3         23.68  3.31    Male     No   Sun  Dinner     2\n",
       "4         24.59  3.61  Female     No   Sun  Dinner     4\n",
       "..          ...   ...     ...    ...   ...     ...   ...\n",
       "239       29.03  5.92    Male     No   Sat  Dinner     3\n",
       "240       27.18  2.00  Female    Yes   Sat  Dinner     2\n",
       "241       22.67  2.00    Male    Yes   Sat  Dinner     2\n",
       "242       17.82  1.75    Male     No   Sat  Dinner     2\n",
       "243       18.78  3.00  Female     No  Thur  Dinner     2\n",
       "\n",
       "[242 rows x 7 columns]"
      ]
     },
     "metadata": {},
     "output_type": "display_data"
    }
   ],
   "source": [
    "# 1.5(IQR) rule\n",
    "\n",
    "tips_lower_limit = tips_Q1 - tips_IQR * 1.5\n",
    "tips_upper_limit = tips_Q3 + tips_IQR * 1.5\n",
    "\n",
    "# Tip outliers\n",
    "tip_outliers = tips[(tips.tip<tips_lower_limit)|(tips.tip>tips_upper_limit)]\n",
    "display(tip_outliers)\n",
    "  \n",
    "# Total Bill Outliers\n",
    "bill_outliers = tips[(tips.total_bill<tips_lower_limit)|(tips.total_bill>tips_upper_limit)]\n",
    "display(bill_outliers)"
   ]
  },
  {
   "cell_type": "markdown",
   "metadata": {},
   "source": [
    "**v)**\tLet $Y$ represent the tip and $X$ the total bill. Use linear regression to find a line of best fit between $X$ and $Y$. You should present a scatterplot of $X$ and $Y$ along with the line of best fit.   &emsp; **\\[10 marks\\]**\n",
    "\n",
    "<font color=blue>For full marks you should also present the coefficients for the regression line in the form $Y = aX + b$ and the $R^2$ value to indicate how well the line fits the data.</font>\n",
    "\n",
    "Mark breakdown: \n",
    "- 5 for calcuation of coefficients (including $R$)\n",
    "- 3 for figure\n",
    "- 2 for displaying equation and $R^2$"
   ]
  },
  {
   "cell_type": "code",
   "execution_count": 469,
   "metadata": {},
   "outputs": [
    {
     "name": "stdout",
     "output_type": "stream",
     "text": [
      "\n",
      "Slope (A) = 0.11\n",
      "\n",
      "Intercept (B) = 0.92\n",
      "\n",
      "r_value (R^2) = 1.35\n",
      "\n",
      "p_value (P) = 0.00\n",
      "\n",
      "std_err (stderr) = 0.01\n",
      "\n",
      "\n"
     ]
    },
    {
     "data": {
      "image/png": "[encoded data removed]",
      "text/plain": [
       "<Figure size 432x288 with 1 Axes>"
      ]
     },
     "metadata": {
      "needs_background": "light"
     },
     "output_type": "display_data"
    }
   ],
   "source": [
    "import matplotlib.pyplot as mpl\n",
    "import pandas as pd\n",
    "from scipy.stats import linregress\n",
    "\n",
    "X = tips['total_bill']\n",
    "Y = tips['tip']\n",
    "\n",
    "# calcuation of coefficients\n",
    "A, B, R, P, stderr = linregress(X,Y)\n",
    "\n",
    "print(\"\\nSlope (A) = {:.2f}\".format(A)) \n",
    "print(\"\\nIntercept (B) = {:.2f}\".format(B))\n",
    "print(\"\\nr_value (R^2) = {:.2f}\".format(R*2))\n",
    "print(\"\\np_value (P) = {:.2f}\".format(P))\n",
    "print(\"\\nstd_err (stderr) = {:.2f}\".format(stderr))\n",
    "print(\"\\n\")\n",
    "\n",
    "# Graph\n",
    "mpl.scatter(X,Y)\n",
    "\n",
    "xLine = np.linspace(0,50,15)\n",
    "yLine = A * xLine + B\n",
    "\n",
    "mpl.plot(xLine, yLine, color='Red')\n",
    "mpl.show()"
   ]
  },
  {
   "cell_type": "code",
   "execution_count": null,
   "metadata": {},
   "outputs": [],
   "source": []
  }
 ],
 "metadata": {
  "kernelspec": {
   "display_name": "Python 3",
   "language": "python",
   "name": "python3"
  },
  "language_info": {
   "codemirror_mode": {
    "name": "ipython",
    "version": 3
   },
   "file_extension": ".py",
   "mimetype": "text/x-python",
   "name": "python",
   "nbconvert_exporter": "python",
   "pygments_lexer": "ipython3",
   "version": "3.8.3"
  }
 },
 "nbformat": 4,
 "nbformat_minor": 4
}
